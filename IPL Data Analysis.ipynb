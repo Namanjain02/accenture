#!/usr/bin/env python
# coding: utf-8

# In[41]:


import pandas as pd 
import matplotlib.pyplot as plt 
import seaborn as sns 


# In[42]:


ipl=pd.read_csv(r"C:\Users\naman\Downloads\ipl\matches (1).csv")


# In[43]:

# first five record of the dataset
ipl.head()


# In[44]:
#  tell the number of raws and number of coloumns
ipl.shape


# In[45]:

#  tell how many player won pom 
ipl['player_of_match'].value_counts()


# In[46]:
# give the top 5 player who won the pom with their value

ipl['player_of_match'].value_counts()[0:5]


# In[47]:

# tell only the name of the player who won player of the match  by using the key()
list(ipl['player_of_match'].value_counts()[0:5].keys())


# In[48]:


ipl['toss_winner'].value_counts()


# In[49]:


#extracting the recors where the team wins by batting first 


# In[50]:


batting_first=ipl[ipl['win_by_runs']!=0]


# In[51]:


batting_first.head()


# In[52]:


plt.figure(figsize=(8,5))   
plt.hist(batting_first['win_by_runs'])
plt.title("distributions of runs")
plt.xlabel("runs")
plt.show()


# In[53]:


batting_first['winner'].value_counts()[0:3]


# In[54]:


list(batting_first['winner'].value_counts()[0:3].keys())


# In[55]:


plt.figure(figsize=(8,5))
plt.bar(list(batting_first['winner'].value_counts()[0:3].keys()),list(batting_first['winner'].value_counts()[0:3]),color=["blue","yellow","orange"])
plt.show()


# In[56]:


#making a pie chart 


# In[57]:


plt.figure(figsize=(8,8))
plt.pie(list(batting_first['winner'].value_counts()),labels=list(batting_first['winner'].value_counts().keys()),autopct='%0.1f%%')
plt.show()


# In[58]:


#extracting those records where team wins match after second batting 


# In[59]:


batting_second=ipl[ipl['win_by_wickets']!=0]


# In[60]:


batting_second.head()


# In[ ]:





# In[61]:


plt.figure(figsize=(7,7))
plt.hist(batting_second['win_by_wickets'],bins=30)
plt.show()


# In[62]:


batting_second['winner'].value_counts()


# In[63]:


batting_second['winner'].value_counts()[0:3]


# In[64]:


list(batting_second['winner'].value_counts()[0:3].keys())


# In[65]:


plt.figure(figsize=(7,7))
plt.bar(list(batting_second['winner'].value_counts()[0:3].keys()),list(batting_second['winner'].value_counts()[0:3]),color=["purple","blue","red"])


# In[66]:


#now we are going to make pie charts 


# In[67]:


plt.figure(figsize=(7,7))
plt.pie(list(batting_second['winner'].value_counts()),labels=list(batting_second['winner'].value_counts().keys()),autopct='%0.1f%%')
plt.show()


# In[68]:


ipl['season'].value_counts()


# In[69]:


ipl['city'].value_counts()


# In[70]:


import numpy as np 
np.sum(ipl['toss_winner']==ipl['winner'])


# In[71]:


325/636


# In[72]:


deliveries=pd.read_csv(r"C:\Users\naman\Downloads\ipl\deliveries.csv")


# In[73]:


deliveries.head()


# In[74]:


deliveries['match_id'].unique()


# In[75]:


match_1=deliveries[deliveries['match_id']==1]


# In[76]:


match_1.head()


# In[77]:


match_1.shape


# In[78]:



srh=match_1[match_1['inning']==1]


# In[79]:


srh['batsman_runs'].value_counts()


# In[80]:


srh['dismissal_kind'].value_counts()


# In[81]:


rcb=match_1[match_1['inning']==2]


# In[82]:


rcb['batsman_runs'].value_counts()


# In[83]:


rcb['dismissal_kind'].value_counts()


# In[84]:


# import numpy as np 


# # In[85]:


# import numpy as np
 
# a = np.array([5, 7, 3, 1])
# b = np.array([90, 50, 0, 30])
 
# # array are compatible because of same Dimension
# c = a * b
# print(c)


# In[ ]:





# In[ ]:




